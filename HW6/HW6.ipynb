{
 "cells": [
  {
   "attachments": {},
   "cell_type": "markdown",
   "metadata": {},
   "source": [
    "### **EIND 464** Assignment 6\n",
    "\n",
    "**4/27/23**\n",
    "\n",
    "**Thomas Lipinski**\n"
   ]
  },
  {
   "cell_type": "code",
   "execution_count": null,
   "metadata": {},
   "outputs": [],
   "source": [
    "using LinearAlgebra, Distributions, Printf"
   ]
  },
  {
   "attachments": {},
   "cell_type": "markdown",
   "metadata": {},
   "source": [
    "# Section 20.2\n",
    "## Problem 4 ##"
   ]
  },
  {
   "cell_type": "code",
   "execution_count": null,
   "metadata": {},
   "outputs": [],
   "source": [
    "# The time between arrivals of buses follows an exponential distribution, with a mean \n",
    "# of 60 minutes. λ is the arrival rate (buses per hour).\n",
    "\n",
    "λ = 1\n",
    "\n",
    "# a) What is the probability that exactly four buses will arrive during the next 2 hours?\n",
    "\n",
    "t = 2\n",
    "x = 4 # four buses in period t \n",
    "\n",
    "ArrivalTimes = Poisson(λ*t) # Create a Distribution object to work with\n",
    "Answer = pdf(ArrivalTimes,x)\n",
    "@printf \"A. The probability of exactly 4 buses arriving \n",
    "        in the next two hours is: %5.4f. \\n\" Answer"
   ]
  },
  {
   "attachments": {},
   "cell_type": "markdown",
   "metadata": {},
   "source": [
    "A. The probability of exactly 4 buses arriving in the next two hours is:  **0.0902** "
   ]
  },
  {
   "cell_type": "code",
   "execution_count": null,
   "metadata": {},
   "outputs": [],
   "source": [
    "# b) That at least two buses will arrive during the next two hours?\n",
    "\n",
    "Answer = 0\n",
    "for i in 2:33 # summing values to a fairly high Poisson Input value\n",
    "    Answer += pdf(ArrivalTimes, i)\n",
    "end\n",
    "    \n",
    "@printf \"B. The probability that at least two buses will arrive during \n",
    "        the next two hours is: %5.4f. \\n\" Answer"
   ]
  },
  {
   "attachments": {},
   "cell_type": "markdown",
   "metadata": {},
   "source": [
    "B. The probability that at least two buses will arrive during the next two hours is:  **0.5940** "
   ]
  },
  {
   "cell_type": "code",
   "execution_count": null,
   "metadata": {},
   "outputs": [],
   "source": [
    "# c ) That no buses will arrive during the next 2 hours?\n",
    "\n",
    "Answer = pdf(ArrivalTimes,0)\n",
    "\n",
    "@printf \"The probability that no buses arrive during \n",
    "        the next two hours is: %5.4f. \\n\" Answer"
   ]
  },
  {
   "attachments": {},
   "cell_type": "markdown",
   "metadata": {},
   "source": [
    "C. The probability that no buses arrive during the next two hours is: **0.1353**. "
   ]
  },
  {
   "cell_type": "code",
   "execution_count": null,
   "metadata": {},
   "outputs": [],
   "source": [
    "# d) A bus has just arrived. What is the probability that\n",
    "# it will be between 30 and 90 minutes before the next bus arrives?\n",
    "\n",
    "# Look at the continuous aspect for time, so Exponential dist...\n",
    "InterArrivalTimes = Exponential(λ)\n",
    "\n",
    "# subtract area to the left of 30 mins from the area to the left of 90 minutes\n",
    "Answer = cdf(InterArrivalTimes, 3λ/2) - cdf(InterArrivalTimes, λ/2) \n",
    "\n",
    "@printf \"The probability it will be between 30 and 90 minutes\n",
    "         before the next bus arrives is %5.4f.\\n\" Answer"
   ]
  },
  {
   "attachments": {},
   "cell_type": "markdown",
   "metadata": {},
   "source": [
    "D. The probability it will be between 30 and 90 minutes before the next bus arrives is **0.3834**.\n",
    "\n",
    "## Problem 7"
   ]
  },
  {
   "cell_type": "code",
   "execution_count": null,
   "metadata": {},
   "outputs": [],
   "source": [
    "# An average of 12 jobs per hour arrive at our departmental printer.\n",
    "# 12 jobs / 60 minutes -> 1 job / 5 minutes\n",
    "λ = 5 # five minutes per job\n",
    "λ = 12 # twelve jobs per hour\n",
    "\n",
    "# a) Use two different computations (one involving the Poisson and another the \n",
    "# exponential random variable) to determine the probability that no job will arrived\n",
    "# during the next 15 minutes.\n",
    "t = 1/4\n",
    "\n",
    "EXP = Exponential(5)\n",
    "# 1 - cdf, where cdf if the integral of EXP from 0 to 15 \n",
    "ProbabilityOfNoArrivalsExp = ccdf(EXP,15) \n",
    "\n",
    "# Just need the probablity of the discrete value 0 on a \n",
    "POI = Poisson(λ*t)  # Poi dist with parameter 3 jobs / 15 minutes\n",
    "ProbabilityOfNoArrivalsPoi = pdf(POI,0) \n",
    "\n",
    "@printf \"By the Poisson distribution, the Probability of no buses \n",
    "        arriving in 15 minutes is %5.4f.\\n\" ProbabilityOfNoArrivalsPoi\n",
    "@printf \"By the Exponential distribution, the Probability of no \n",
    "    buses arriving in 15 minutes is %5.4f.\\n\" ProbabilityOfNoArrivalsExp"
   ]
  },
  {
   "attachments": {},
   "cell_type": "markdown",
   "metadata": {},
   "source": [
    "A. By the Poisson distribution, the Probability of no buses arriving in 15 minutes is **0.0498**.\n",
    "\n",
    "By the Exponential distribution, the Probability of no buses arriving in 15 minutes is **0.0498**."
   ]
  },
  {
   "cell_type": "code",
   "execution_count": null,
   "metadata": {},
   "outputs": [],
   "source": [
    "# b What is the probability that 5 or fewer jobs will arrive during the next 30 minutes?\n",
    "\n",
    "POI = Poisson(λ/2)\n",
    "Answer = cdf(POI,5)\n",
    "@printf \"B. The probability that five or fewer jobs arrive in the next thirty \n",
    "            minutes is %5.4f.\\n\" Answer"
   ]
  },
  {
   "attachments": {},
   "cell_type": "markdown",
   "metadata": {},
   "source": [
    "B. The probability that five or fewer jobs arrive in the next thirty minutes is **0.4457**.\n",
    "\n",
    "# Section 20.3\n",
    "\n",
    "## Problem 2"
   ]
  },
  {
   "cell_type": "code",
   "execution_count": null,
   "metadata": {},
   "outputs": [],
   "source": [
    "# My home uses two light bulbs. On average, a light bulb lasts for 22 days \n",
    "# (exponentially distributed). When a light bulb burns out, it takes an average \n",
    "# of 2 days (exponentially distributed) before I replace the bulb.\n",
    "\n",
    "# States\n",
    "# 0 Bulbs working, 1 Bulbs working, 2 Bulbs working\n",
    "\n",
    "# Birth processes\n",
    "#   (λ₀  λ₁  λ₂)\n",
    "λ = [1, 1/2, 0]\n",
    "\n",
    "# Death processes \n",
    "#   (μ₀   μ₁   μ₂)\n",
    "μ = [0, 1/22, 1/11]\n",
    "\n",
    "# a) Formulate a three-state birth–death model of this situation.\n",
    "\n",
    "ρ₀ = λ[1]/μ[2]\n",
    "ρ₁ = λ[2]/μ[3]\n",
    "\n",
    "# eqn 0:  π₀       +   π₁ + π₂ = 1 \n",
    "\n",
    "# eqn 1: -π₀*ρ₀    +   π₁      = 0\n",
    "\n",
    "# eqn 2: -π₀*ρ₁*ρ₀ +       π₂  = 0\n",
    "\n",
    "A = [ 1     1    1;\n",
    "     -ρ₀    1    0; \n",
    "     -ρ₀*ρ₁ 0    1]\n",
    "\n",
    "b = [1;\n",
    "     0;\n",
    "     0]\n",
    "\n",
    "Answer = A \\ b\n",
    "\n",
    "# b) Determine the fraction of the time that both light bulbs are working.\n",
    "@printf \"B. The fraction of the time that both light bulbs\n",
    "      are working is %5.4f \\n\" Answer[3]\n",
    "# c) Determine the fraction of the time that no light bulbs are working.\n",
    "@printf \"C. The fraction of the time that no light\n",
    "      bulbs are working is %5.4f \\n\" Answer[1]"
   ]
  },
  {
   "attachments": {},
   "cell_type": "markdown",
   "metadata": {},
   "source": [
    "B. The fraction of the time that both light bulbs are working is **0.8403**\n",
    "\n",
    "C. The fraction of the time that no light bulbs are working is **0.0069** \n",
    "\n",
    "## Problem 3"
   ]
  },
  {
   "cell_type": "code",
   "execution_count": null,
   "metadata": {},
   "outputs": [],
   "source": [
    "F =   0   # Number of pizza restrants in Bloomington\n",
    "birthRate(F) = max(0, 16-(F/2))\n",
    "\n",
    "deathRate(z::Float64) = inv((10 + z))\n",
    "\n",
    "# States holds [Birth rate, death rate, Traffic intensity and steady state probability] for each state\n",
    "States = zeros(Float64, 4, 33)\n",
    "\n",
    "for i in 0:32\n",
    "    if i == 0\n",
    "        States[:,i+1] = [birthRate(i), 0, 1, 0]\n",
    "    else\n",
    "        States[:,i+1] = [birthRate(i),\n",
    "                        deathRate(birthRate(i)),\n",
    "                        deathRate(birthRate(i-1)) * birthRate(i) / deathRate(birthRate(i)),\n",
    "                        0]\n",
    "    end\n",
    "end\n",
    "\n",
    "States[4,1] = inv(sum(States[3,:]))\n",
    "for i in 2:33\n",
    "    States[4,i] = States[3,i] * States[4,1]\n",
    "end\n",
    "\n",
    "avResturants = sum(i*States[4,i+1] for i in 0:32)\n",
    "partB = sum(States[4,i] for i in 20:32)\n",
    "\n",
    "@printf \"A. In steady state, the average number of pizza \n",
    "                resturants is: %4.2f\\n\" avResturants\n",
    "@printf \"B. The fraction of the time will there be more than 20 \n",
    "            pizza restaurants in Bloomington is %4.2f\\n\" partB\n",
    "# println(\"| State |   λⱼ    |    μⱼ   |   ρⱼ    |   πⱼ    |\")\n",
    "# println(\"+-------+---------+---------+---------+---------+\")\n",
    "# for i in 0:32\n",
    "#     @printf \"|%4d   |\" i\n",
    "#     for j in 1:4\n",
    "#         @printf \"%8.3f |\" States[j,i+1]\n",
    "#     end\n",
    "#     println()\n",
    "# end\n",
    "# | State |   λⱼ    |    μⱼ   |   ρⱼ    |   πⱼ    |\n",
    "# +-------+---------+---------+---------+---------+\n",
    "# |   0   |  16.000 |   0.000 |   1.000 |   0.004 |\n",
    "# |   1   |  15.500 |   0.039 |  15.202 |   0.063 |\n",
    "# |   2   |  15.000 |   0.040 |  14.706 |   0.061 |\n",
    "# |   3   |  14.500 |   0.041 |  14.210 |   0.059 |\n",
    "# |   4   |  14.000 |   0.042 |  13.714 |   0.056 |\n",
    "# |   5   |  13.500 |   0.043 |  13.219 |   0.054 |\n",
    "# |   6   |  13.000 |   0.043 |  12.723 |   0.052 |\n",
    "# |   7   |  12.500 |   0.044 |  12.228 |   0.050 |\n",
    "# |   8   |  12.000 |   0.045 |  11.733 |   0.048 |\n",
    "# |   9   |  11.500 |   0.047 |  11.239 |   0.046 |\n",
    "# |  10   |  11.000 |   0.048 |  10.744 |   0.044 |\n",
    "# |  11   |  10.500 |   0.049 |  10.250 |   0.042 |\n",
    "# |  12   |  10.000 |   0.050 |   9.756 |   0.040 |\n",
    "# |  13   |   9.500 |   0.051 |   9.263 |   0.038 |\n",
    "# |  14   |   9.000 |   0.053 |   8.769 |   0.036 |\n",
    "# |  15   |   8.500 |   0.054 |   8.276 |   0.034 |\n",
    "# |  16   |   8.000 |   0.056 |   7.784 |   0.032 |\n",
    "# |  17   |   7.500 |   0.057 |   7.292 |   0.030 |\n",
    "# |  18   |   7.000 |   0.059 |   6.800 |   0.028 |\n",
    "# |  19   |   6.500 |   0.061 |   6.309 |   0.026 |\n",
    "# |  20   |   6.000 |   0.062 |   5.818 |   0.024 |\n",
    "# |  21   |   5.500 |   0.065 |   5.328 |   0.022 |\n",
    "# |  22   |   5.000 |   0.067 |   4.839 |   0.020 |\n",
    "# |  23   |   4.500 |   0.069 |   4.350 |   0.018 |\n",
    "# |  24   |   4.000 |   0.071 |   3.862 |   0.016 |\n",
    "# |  25   |   3.500 |   0.074 |   3.375 |   0.014 |\n",
    "# |  26   |   3.000 |   0.077 |   2.889 |   0.012 |\n",
    "# |  27   |   2.500 |   0.080 |   2.404 |   0.010 |\n",
    "# |  28   |   2.000 |   0.083 |   1.920 |   0.008 |\n",
    "# |  29   |   1.500 |   0.087 |   1.438 |   0.006 |\n",
    "# |  30   |   1.000 |   0.091 |   0.957 |   0.004 |\n",
    "# |  31   |   0.500 |   0.095 |   0.477 |   0.002 |\n",
    "# |  32   |   0.000 |   0.100 |   0.000 |   0.000 |"
   ]
  },
  {
   "attachments": {},
   "cell_type": "markdown",
   "metadata": {},
   "source": [
    "A. In steady state, the average number of pizza resturants is: **10.92**\n",
    "\n",
    "B. The fraction of the time will there be more than 20 pizza restaurants in Bloomington is **0.18**"
   ]
  },
  {
   "attachments": {},
   "cell_type": "markdown",
   "metadata": {},
   "source": [
    "# Section 20.4\n",
    "\n",
    "## Problem 4"
   ]
  },
  {
   "cell_type": "code",
   "execution_count": null,
   "metadata": {},
   "outputs": [],
   "source": [
    "# A fast-food restaurant has one drive-through window. An average of 40 customers per\n",
    "# hour arrive at the window. It takes an average of 1 minute to serve a customer. Assume\n",
    "# that interarrival and service times are exponential.\n",
    "λ = 40  # Units are customers per hour\n",
    "μ = 60  # Units are customers per hour\n",
    "ρ = λ/μ\n",
    "# a) On the average, how many customers are waiting in line?\n",
    "\n",
    "# L = inv(1-ρ)\n",
    "Lₛ = ρ                   # Time in service\n",
    "Lᵦ = λ^2 / (μ * (μ - λ)) # Time in queue\n",
    "L = Lᵦ + Lₛ              # Time in system\n",
    "# println(L)\n",
    "@printf \"A. The average number of customers waiting in line is: %.2f\\n\" Lᵦ"
   ]
  },
  {
   "attachments": {},
   "cell_type": "markdown",
   "metadata": {},
   "source": [
    "A. The average number of customers waiting in line is: **1.33**"
   ]
  },
  {
   "cell_type": "code",
   "execution_count": null,
   "metadata": {},
   "outputs": [],
   "source": [
    "# b) On the average, how long does a customer spend at the restaurant \n",
    "# (from time of arrival to time service is completed)?\n",
    "\n",
    "W = (L*60) / λ\n",
    "@printf \"B. On average, a customer spends %.2f minutes at the resturant.\\n\" W"
   ]
  },
  {
   "attachments": {},
   "cell_type": "markdown",
   "metadata": {},
   "source": [
    "B. On average, a customer spends **3.00** minutes at the resturant."
   ]
  },
  {
   "cell_type": "code",
   "execution_count": null,
   "metadata": {},
   "outputs": [],
   "source": [
    "# c) What fraction of the time are more than 3 cars waiting for service\n",
    "#  (this includes the car (if any) at the window)?\n",
    "P(n) = (1-ρ)*ρ^n # function definition\n",
    "C = 0\n",
    "for i in 0:3\n",
    "    C += P(i)\n",
    "end\n",
    "C = 1 - C\n",
    "@printf \"C. The portion of time there are more than three cars\n",
    "         waiting for service is: %4.4f\\n\" (C)"
   ]
  },
  {
   "attachments": {},
   "cell_type": "markdown",
   "metadata": {},
   "source": [
    "C. The portion of time there are more than three cars waiting for service is: **0.1975**"
   ]
  },
  {
   "cell_type": "code",
   "execution_count": null,
   "metadata": {},
   "outputs": [],
   "source": [
    "# Problem 10\n",
    "\n",
    "# Consider an airport where taxis and customers arrive (exponential interarrival times)\n",
    "# with respective rates of 1 and 2 per minute. No matter how many other taxis are\n",
    "# present, a taxi will wait. If an arriving customer does not find a taxi, the \n",
    "# customer immediately leaves.\n",
    "\n",
    "# a) Model this system as a birth–death process (Hint: Determine what the state\n",
    "#        of the system is at any given time and draw a rate diagram.)"
   ]
  },
  {
   "attachments": {},
   "cell_type": "markdown",
   "metadata": {},
   "source": [
    "Because The number of customers is never greater than 1, the states will be the number of taxis waiting. (As number of taxis can be any discrete nonnegative value)\n",
    "\n",
    "In state  zero: The arrival rate is 1/min, and the departure rate is zero (customers balk if there isn't a taxi available)\n",
    "\n",
    "In state   one: The arrival rate is still 1/min, but the departure rate changes to 2/min.\n",
    "\n",
    "In state three: The arrival rate is still 1/min, and the departure rate is still 2/min.\n",
    "\n",
    "In state     j: The arrival rate is still 1/min, and the departure rate is still 2/min."
   ]
  },
  {
   "cell_type": "code",
   "execution_count": null,
   "metadata": {},
   "outputs": [],
   "source": [
    "# b) Find the average number of taxis that are waiting for a customer.\n",
    "\n",
    "# Now for steady state probabilities:\n",
    "λ = 1 # arrival per minute\n",
    "μ = 2 # departures per minute\n",
    "μ₀ = 0 # Zero departures when zero taxis\n",
    "\n",
    "ρ = λ/μ\n",
    "\n",
    "π₀ = 1-ρ\n",
    "\n",
    "πₙ(n) = π₀ * ρ^n\n",
    "\n",
    "AvTaxis = sum(i*πₙ(i) for i in 0:10000)\n",
    "\n",
    "@printf \"B. The average number of taxis waiting for a customer is: %2.2f\\n\" AvTaxis"
   ]
  },
  {
   "attachments": {},
   "cell_type": "markdown",
   "metadata": {},
   "source": [
    "B. The average number of taxis waiting for a customer is: **1.00**"
   ]
  },
  {
   "attachments": {},
   "cell_type": "markdown",
   "metadata": {},
   "source": [
    "C. Suppose all customers who use a taxi pay a $2 fare. During a typical hour, how much revenue will the taxis receive?\n",
    "\n",
    "Well if each customer has, on average, one taxi waiting for them, then the number of departures in an hour will equal the number of taxi arrivals in the hour. Therefore:\n",
    "\n",
    "60 taxi arrivals / hour * $2.00 per departure = **$120.00**\n",
    "\n",
    "# Section 20.5\n",
    "\n",
    "## Problem 2"
   ]
  },
  {
   "cell_type": "code",
   "execution_count": null,
   "metadata": {},
   "outputs": [],
   "source": [
    "# An average of 40 cars per hour (interarrival times are\n",
    "# exponentially distributed) are tempted to use the drive-in\n",
    "# window at the Hot Dog King Restaurant. If a total of \n",
    "# more than 4 cars are in line (including the car at the window) a\n",
    "# car will not enter the line. It takes an average \n",
    "# of 4 minutes (exponentially distributed) to serve a car.\n",
    "c = 4\n",
    "λ = 40\n",
    "μ = 15\n",
    "ρ = λ/μ"
   ]
  },
  {
   "cell_type": "code",
   "execution_count": null,
   "metadata": {},
   "outputs": [],
   "source": [
    "# a) What is the average number of cars waiting\n",
    "# for the drive-in window (not including a car at the window)?\n",
    "# L_q = (λ^2)/(μ*(μ - λ))\n",
    "π₀ = (1-ρ)/(1-ρ^(c+1))\n",
    "\n",
    "Lₛ = 1 - π₀\n",
    "\n",
    "# Eqn 35 in chapter 20.5\n",
    "L = (ρ*(1-(c + 1) * ρ^c + c * ρ^(c+1))/((1-ρ^(c+1)) * (1-ρ))) \n",
    "L_q = L - Lₛ\n",
    "\n",
    "@printf \"A. The average number of customers in the queue is Lq: %3.3f\\n\" L_q"
   ]
  },
  {
   "attachments": {},
   "cell_type": "markdown",
   "metadata": {},
   "source": [
    "A. The average number of customers in the queue is Lq: **2.450**"
   ]
  },
  {
   "cell_type": "code",
   "execution_count": null,
   "metadata": {},
   "outputs": [],
   "source": [
    "# b) On the average, how many cars will be served per hour?\n",
    "π₄ = ρ^c * π₀\n",
    "AvCust = λ * (1 - π₄)\n",
    "@printf \"B. The average number of cars server per hour is %2.2f\\n\" AvCust"
   ]
  },
  {
   "attachments": {},
   "cell_type": "markdown",
   "metadata": {},
   "source": [
    "B. The average number of cars server per hour is **14.81**"
   ]
  },
  {
   "cell_type": "code",
   "execution_count": null,
   "metadata": {},
   "outputs": [],
   "source": [
    "# c) I have just joined the line at the drive-in window.\n",
    "# On the average, how long will it be before I have received my food?"
   ]
  },
  {
   "attachments": {},
   "cell_type": "markdown",
   "metadata": {},
   "source": [
    "C. Due to the no-memory property of the Exponential distribution, the average time you will wait is the service rate μ, **4 minutes.** \n",
    "\n",
    "## Problem 6"
   ]
  },
  {
   "cell_type": "code",
   "execution_count": null,
   "metadata": {},
   "outputs": [],
   "source": [
    "# Two one-man barber shops sit side by side in Dunkirk Square.\n",
    "# Each can hold a maximum of 4 people, and any\n",
    "# potential customer who finds a shop full will not wait for a \n",
    "# haircut. Barber 1 charges $11 per haircut and takes an\n",
    "# average of 12 minutes to complete a haircut. Barber 2 charges\n",
    "# $5 per haircut and takes an average of 6 minutes to\n",
    "# complete a haircut. An average of 10 potential customers per\n",
    "# hour arrive at each barber shop. Of course, a potential\n",
    "# customer becomes an actual customer only if he finds that \n",
    "# the shop is not full. Assuming that interarrival times and\n",
    "# haircut times are exponential, which barber will earn more money?\n",
    "\n",
    "# Need to compare customers served per hour * cost. \n",
    "\n",
    "c = 4\n",
    "λ = 10 # Customers per hour\n",
    "# Barber 1\n",
    "\n",
    "μ₁ = 5\n",
    "ρ₁ = λ/μ₁\n",
    "π₀₁ = (1-ρ₁)/(1-ρ₁^(c+1))\n",
    "\n",
    "π₄₁ = ρ₁^c * π₀₁\n",
    "E1 = λ * (1 - π₄₁)\n",
    "@printf \"The average hourly earnings for barber 1 are: \\$%2.2f\\n\" E1\n",
    "# Barber 2\n",
    "μ₂ = 9.99999\n",
    "ρ₂ = λ/μ₂\n",
    "# println((1 - ρ₂^(c + 1)))\n",
    "π₀₂ = (1 - ρ₂)/(1 - ρ₂^(c + 1))\n",
    "\n",
    "π₄₂ = ρ₂^c * π₀₂\n",
    "E2 = λ * (1 - π₄₂)\n",
    "@printf \"The average hourly earnings for barber 2 are: \\$%2.2f\\n\" E2\n",
    "@printf \"Barber 2 earns more money.\""
   ]
  },
  {
   "attachments": {},
   "cell_type": "markdown",
   "metadata": {},
   "source": [
    "The average hourly earnings for barber 1 are: $4.84\n",
    "\n",
    "The average hourly earnings for barber 2 are: $8.00\n",
    "\n",
    "**Barber 2 earns more money.**\n",
    "\n",
    "# Section 20.6\n",
    "\n",
    "## Problem 7"
   ]
  },
  {
   "cell_type": "code",
   "execution_count": null,
   "metadata": {},
   "outputs": [],
   "source": [
    "# An average of 50 customers per hour arrive at a small post\n",
    "# office. Interarrival times are exponentially distributed.\n",
    "# Each window can serve an average of 25 customers per hour.\n",
    "# Service times are exponentially distributed. It costs\n",
    "# $25 per hour to open a window, and the post office values\n",
    "# the time a customer spends waiting in line at $15 per\n",
    "# customer-hour. \n",
    "\n",
    "# M/M/s/GD/∞/∞ Queue\n",
    "\n",
    "λ = 50\n",
    "μ = 25\n",
    "ρ = λ / μ\n",
    "# To minimize expected hourly costs, how many postal windows should be opened?\n",
    "function probabilityofS(s::Int64, ρ::Float64)\n",
    "    return (ρ)^s / (factorial(big(s)) * sum(((ρ)^k) for k in 0:s-1))\n",
    "end\n",
    "\n",
    "function numCusts(s::Int64, ρ::Float64, μ::Int64)\n",
    "    Pₛ = probabilityofS(s,ρ)\n",
    "    if s == 1\n",
    "        term1 = 0\n",
    "    else\n",
    "        term1 = sum(ρ^k / (factorial(big(k)) * float(μ)^(k - s)) * Pₛ for k in 1:s-1)\n",
    "    end\n",
    "    return ρ * (Pₛ + term1)\n",
    "end\n",
    "\n",
    "function optimal_windows(λ, μ)\n",
    "    ρ = λ / μ\n",
    "    min_cost = Inf\n",
    "    optimal_s = 0\n",
    "\n",
    "    for s in 1:16 \n",
    "        cost = numCusts(s, ρ, μ)\n",
    "        if cost < min_cost\n",
    "            min_cost = cost\n",
    "            \n",
    "            optimal_s = s\n",
    "            @printf \"%d : %.16f\\n\" s min_cost\n",
    "        end\n",
    "    end\n",
    "\n",
    "    return optimal_s\n",
    "end\n",
    "\n",
    "optimal_s = optimal_windows(λ, μ)\n",
    "\n",
    "# for i in 1:25\n",
    "#     @printf \"%2d : %5.15f\\n\" i numCusts(i,ρ, μ)\n",
    "# end"
   ]
  },
  {
   "cell_type": "code",
   "execution_count": null,
   "metadata": {},
   "outputs": [],
   "source": [
    "λ = 50\n",
    "μ = 25\n",
    "ρ = λ / μ\n",
    "\n",
    "c_open_window = 25\n",
    "c_waiting = 15\n",
    "\n",
    "function P0(s, ρ)\n",
    "    if ρ / s == 1\n",
    "        return 1 / (s + 1)\n",
    "    else\n",
    "        sum_part = sum([(ρ^k) / factorial(big(k)) for k in 0:(s - 1)])\n",
    "        last_term = (ρ^s) / (factorial(big(s)) * (1 - (ρ / s)))\n",
    "        return 1 / (sum_part + last_term)\n",
    "    end\n",
    "end\n",
    "\n",
    "function ErlangC(s, ρ)\n",
    "    sum_term = sum([(ρ^k) / factorial(k) for k in 0:(s - 1)])\n",
    "    last_term = (ρ^s) / (factorial(s) * (1 - ρ / s))\n",
    "    return last_term / (sum_term + last_term)\n",
    "end\n",
    "\n",
    "function num_cust_in_system(s, ρ)\n",
    "    L = s * ρ + ρ * ErlangC(s, ρ) / #DIVIDED BY \n",
    "           (1 - ρ / s)\n",
    "    return L\n",
    "end\n",
    "\n",
    "function hourly_cost(s, λ, μ, c_open_window, c_waiting)\n",
    "    ρ = λ / (s * μ)\n",
    "    customers_in_system = num_cust_in_system(s, ρ)\n",
    "    cost_wait = (customers_in_system - s) * c_waiting\n",
    "    cost_windows = s * c_open_window\n",
    "    return cost_wait + cost_windows\n",
    "end\n",
    "\n",
    "function optimal_windows(λ, μ, c_open_window, c_waiting)\n",
    "    min_cost = Inf\n",
    "    optimal_s = 0\n",
    "\n",
    "    for s in 1:20\n",
    "        cost = hourly_cost(s, λ, μ, c_open_window, c_waiting)\n",
    "        # @printf \"%2d : %4.6f\\n\" s cost\n",
    "        if cost < min_cost\n",
    "            min_cost = cost\n",
    "            optimal_s = s\n",
    "        end\n",
    "    end\n",
    "\n",
    "    return optimal_s\n",
    "end\n",
    "\n",
    "optimal_s = optimal_windows(λ, μ, c_open_window, c_waiting)\n",
    "@printf \"The optimal number of postal windows to be opened is: %d\\n\" optimal_s"
   ]
  },
  {
   "attachments": {},
   "cell_type": "markdown",
   "metadata": {},
   "source": [
    "The optimal number of postal windows to be opened is: **1**"
   ]
  },
  {
   "cell_type": "code",
   "execution_count": null,
   "metadata": {},
   "outputs": [],
   "source": [
    "# A muffler shop has three mechanics. Each mechanic \n",
    "# takes an average of 45 minutes to install a new muffler.\n",
    "# Suppose an average of 1 customer per hour arrives. \n",
    "# What is the expected number of mechanics that are busy at any\n",
    "# given time? Answer this question without \n",
    "# assuming that service times and interarrival times are exponential.\n",
    "\n",
    "# each is busy 45/60\n",
    "# meaning each is free 15/60 -> 1/4\n",
    "\n",
    "@printf \"The expected number of mechanics busy at any given time is %3.3f\\n\" (3/4)^3"
   ]
  },
  {
   "attachments": {},
   "cell_type": "markdown",
   "metadata": {},
   "source": [
    "The expected number of mechanics busy at any given time is **0.422**"
   ]
  },
  {
   "attachments": {},
   "cell_type": "markdown",
   "metadata": {},
   "source": [
    "**I was told I could turn in Markdown code... Let's find out!**"
   ]
  }
 ],
 "metadata": {
  "kernelspec": {
   "display_name": "Julia 1.8.5",
   "language": "julia",
   "name": "julia-1.8"
  },
  "language_info": {
   "file_extension": ".jl",
   "mimetype": "application/julia",
   "name": "julia",
   "version": "1.8.5"
  },
  "orig_nbformat": 4
 },
 "nbformat": 4,
 "nbformat_minor": 2
}
